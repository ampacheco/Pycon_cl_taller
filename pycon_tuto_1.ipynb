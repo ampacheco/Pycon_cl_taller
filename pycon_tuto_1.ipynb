{
  "nbformat": 4,
  "nbformat_minor": 0,
  "metadata": {
    "colab": {
      "name": "pycon_tuto_1.ipynb",
      "provenance": [],
      "collapsed_sections": [],
      "include_colab_link": true
    },
    "kernelspec": {
      "name": "python3",
      "display_name": "Python 3"
    }
  },
  "cells": [
    {
      "cell_type": "markdown",
      "metadata": {
        "id": "view-in-github",
        "colab_type": "text"
      },
      "source": [
        "<a href=\"https://colab.research.google.com/github/napoles-uach/Pycon_cl_taller/blob/main/pycon_tuto_1.ipynb\" target=\"_parent\"><img src=\"https://colab.research.google.com/assets/colab-badge.svg\" alt=\"Open In Colab\"/></a>"
      ]
    },
    {
      "cell_type": "code",
      "metadata": {
        "id": "qRQMMZ5qDI_E",
        "colab": {
          "base_uri": "https://localhost:8080/"
        },
        "outputId": "f1e34633-8b8b-4ecb-83eb-c96b1da73169"
      },
      "source": [
        "#@title -----------> Installation of Streamlit and pyngrok of course!!\n",
        "!pip -q install streamlit\n",
        "!pip -q install pyngrok"
      ],
      "execution_count": null,
      "outputs": [
        {
          "output_type": "stream",
          "name": "stdout",
          "text": [
            "\u001b[K     |████████████████████████████████| 8.3 MB 5.2 MB/s \n",
            "\u001b[K     |████████████████████████████████| 180 kB 47.5 MB/s \n",
            "\u001b[K     |████████████████████████████████| 76 kB 2.5 MB/s \n",
            "\u001b[K     |████████████████████████████████| 4.3 MB 41.2 MB/s \n",
            "\u001b[K     |████████████████████████████████| 111 kB 50.3 MB/s \n",
            "\u001b[K     |████████████████████████████████| 63 kB 1.4 MB/s \n",
            "\u001b[K     |████████████████████████████████| 124 kB 52.5 MB/s \n",
            "\u001b[K     |████████████████████████████████| 788 kB 58.1 MB/s \n",
            "\u001b[K     |████████████████████████████████| 374 kB 47.8 MB/s \n",
            "\u001b[?25h  Building wheel for blinker (setup.py) ... \u001b[?25l\u001b[?25hdone\n",
            "\u001b[31mERROR: pip's dependency resolver does not currently take into account all the packages that are installed. This behaviour is the source of the following dependency conflicts.\n",
            "jupyter-console 5.2.0 requires prompt-toolkit<2.0.0,>=1.0.0, but you have prompt-toolkit 3.0.21 which is incompatible.\n",
            "google-colab 1.0.0 requires ipykernel~=4.10, but you have ipykernel 6.4.2 which is incompatible.\n",
            "google-colab 1.0.0 requires ipython~=5.5.0, but you have ipython 7.28.0 which is incompatible.\u001b[0m\n",
            "\u001b[K     |████████████████████████████████| 745 kB 5.1 MB/s \n",
            "\u001b[?25h  Building wheel for pyngrok (setup.py) ... \u001b[?25l\u001b[?25hdone\n"
          ]
        }
      ]
    },
    {
      "cell_type": "markdown",
      "metadata": {
        "id": "Pjl8MssXasJF"
      },
      "source": [
        "The following is the `app.py` base code. It can be modified in the cell or in the folder to the left."
      ]
    },
    {
      "cell_type": "code",
      "metadata": {
        "id": "nrI8dgogDf5b",
        "colab": {
          "base_uri": "https://localhost:8080/"
        },
        "outputId": "6825be9c-0e9f-4688-8341-0c68ce15aed3"
      },
      "source": [
        "%%writefile app.py\n",
        "import streamlit as st\n",
        "import pandas as pd\n",
        "st.title('Empty app :rocket:')\n",
        "df = pd.read_csv('https://raw.githubusercontent.com/napoles-uach/Pycon_cl_taller/main/meteorite-landings.csv')\n",
        "#Podemos mostrar el contenido del dataframe \n",
        "df=df[(df['mass']>0 )] #evitar algunos valores incompletos\n",
        "df=df[abs(df['lat'])>0]  #evitar algunos valores incompletos\n",
        "#st.write(df)\n",
        "\n",
        "year_min=int(df['year'].min())\n",
        "year_max=int(df['year'].max())\n",
        "\n",
        "\n",
        "\n",
        "year_range = st.sidebar.slider('year range',year_min,year_max,[1800,1900])\n",
        "\n",
        "df1=df[(df['year']>=year_range[0] ) & (df['year']<=year_range[1] )]\n",
        "#st.write(df1)\n",
        "#st.write(len(df1))\n",
        "\n",
        "# defino una lista con los nombres de columnas\n",
        "cols=list(df.columns)\n",
        "#cols\n",
        "# con esa lista puedo crear un multiselct\n",
        "vals=st.multiselect('',cols)\n",
        "\n",
        "vals\n",
        "# con esas columnas defino un nuevo df2\n",
        "df2=df1[vals]\n",
        "df2\n",
        "\n",
        "if (\"lat\" in vals) and (\"lon\" in vals):\n",
        "  st.map(df2)\n",
        "\n"
      ],
      "execution_count": null,
      "outputs": [
        {
          "output_type": "stream",
          "name": "stdout",
          "text": [
            "Overwriting app.py\n"
          ]
        }
      ]
    },
    {
      "cell_type": "code",
      "metadata": {
        "id": "FTUt5JjyDkUz",
        "colab": {
          "base_uri": "https://localhost:8080/"
        },
        "outputId": "442a582c-f178-4539-b377-47cd83d6f8a7"
      },
      "source": [
        "#@title This last cell would keep the app running. If stoped, the app would be disconnected.\n",
        "from pyngrok import ngrok\n",
        "public_url = ngrok.connect(port='80')\n",
        "print('Link to web app:')\n",
        "print (public_url)\n",
        "!streamlit run --server.port 80 app.py >/dev/null"
      ],
      "execution_count": null,
      "outputs": [
        {
          "output_type": "stream",
          "name": "stdout",
          "text": [
            "Link to web app:\n",
            "NgrokTunnel: \"http://6006-35-237-114-255.ngrok.io\" -> \"http://localhost:80\"\n",
            "2021-10-29 19:07:47.050 NumExpr defaulting to 2 threads.\n"
          ]
        }
      ]
    },
    {
      "cell_type": "code",
      "metadata": {
        "id": "TjNrHOjL2e5-"
      },
      "source": [
        ""
      ],
      "execution_count": null,
      "outputs": []
    }
  ]
}